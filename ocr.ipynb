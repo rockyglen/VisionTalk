{
 "cells": [
  {
   "cell_type": "code",
   "execution_count": null,
   "id": "ef7f7d58",
   "metadata": {},
   "outputs": [
    {
     "name": "stdout",
     "output_type": "stream",
     "text": [
      "Extracted Text:\n",
      " The former Cabinet minister who is being tipped for a return to frontline politics submitted 16 expense claims for less than €1 each in travel costs in the last financial year\n"
     ]
    }
   ],
   "source": [
    "import easyocr\n",
    "import warnings\n",
    "import torch\n",
    "from PIL import Image\n",
    "import re\n",
    "\n",
    "warnings.filterwarnings(\"ignore\", category=UserWarning)\n",
    "torch._C._jit_set_profiling_executor(False)  # disable profiling warnings\n",
    "\n",
    "# Initialize EasyOCR reader \n",
    "reader = easyocr.Reader(['en'], gpu=True)\n",
    "\n",
    "def normalize_symbols(text: str) -> str:\n",
    "    \n",
    "    \n",
    "    text = re.sub(r'\\s*–\\s*', ' – ', text)  # ensuring proper spacing around dashes\n",
    "    text = re.sub(r'\\s+', ' ', text).strip()  # Normalize extra spaces\n",
    "    return text\n",
    "\n",
    "def extract_text_easyocr(image_path: str) -> str:\n",
    "    \"\"\"\n",
    "    Extract printed or overlaid text from an image using EasyOCR.\n",
    "\n",
    "    Args:\n",
    "        image_path (str): Path to the image file.\n",
    "\n",
    "    Returns:\n",
    "        str: Cleaned and normalized extracted text\n",
    "    \"\"\"\n",
    "    results = reader.readtext(image_path, detail=0)\n",
    "    raw_text = \" \".join(results)\n",
    "    cleaned_text = normalize_symbols(raw_text)\n",
    "    return cleaned_text\n",
    "\n",
    "# example \n",
    "if __name__ == \"__main__\":\n",
    "    image_path = \"text_overlay_dataset/img_00001.jpg\" \n",
    "    text = extract_text_easyocr(image_path)\n",
    "    print(\"Extracted Text:\\n\", text)\n"
   ]
  },
  {
   "cell_type": "code",
   "execution_count": null,
   "id": "ccb1500a",
   "metadata": {},
   "outputs": [],
   "source": []
  }
 ],
 "metadata": {
  "kernelspec": {
   "display_name": "final_project",
   "language": "python",
   "name": "python3"
  },
  "language_info": {
   "codemirror_mode": {
    "name": "ipython",
    "version": 3
   },
   "file_extension": ".py",
   "mimetype": "text/x-python",
   "name": "python",
   "nbconvert_exporter": "python",
   "pygments_lexer": "ipython3",
   "version": "3.11.13"
  }
 },
 "nbformat": 4,
 "nbformat_minor": 5
}
